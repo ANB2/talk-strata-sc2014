{
 "metadata": {
  "name": "",
  "signature": "sha256:4ae84383b5f21cb8d0e77f9b7338452435d4eb7f51912b735650fa7c24f2e03a"
 },
 "nbformat": 3,
 "nbformat_minor": 0,
 "worksheets": [
  {
   "cells": [
    {
     "cell_type": "heading",
     "level": 1,
     "metadata": {},
     "source": [
      "How to leverage d3.js in the noteboook"
     ]
    },
    {
     "cell_type": "markdown",
     "metadata": {},
     "source": [
      "Because IPython supports HTML and JavaScript representations of Python objects, it is possible to leverage the power of [d3.js](http://d3js.org), even without using the new Widget architecture. These examples help to clarify the differences between regular HTML/JavaScript output and the new Widgets:\n",
      "\n",
      "**Regular HTML/JavaScript output in the notebook is put on the page a single time and subsequently cannot communicate with the backend kernel**\n",
      "\n",
      "**Widgets can communicate with the backend kernel bidirectionally at any time after being rendered on the page.**\n",
      "\n",
      "One of the central benefits of using regular HTML/JavaScript output is that the resulting visualizations will work on http://nbviewer.ipython.org for IPython 2.0.\n",
      "\n",
      "We are working on enabling Widgets on http://nbviewer.ipython.org, but it will probably be another 6 months."
     ]
    },
    {
     "cell_type": "heading",
     "level": 2,
     "metadata": {},
     "source": [
      "A basic d3.js example"
     ]
    },
    {
     "cell_type": "markdown",
     "metadata": {},
     "source": [
      "Here is a simple example from the d3 website, which shows how we can use d3 directly in the Notebook.\n",
      "\n",
      "First, let's create a `div` for a d3 visualization and define some CSS styles:"
     ]
    },
    {
     "cell_type": "code",
     "collapsed": false,
     "input": [
      "%%html\n",
      "\n",
      "<div id=\"d3-example\"></div>\n",
      "\n",
      "<style>\n",
      ".node {stroke: #fff; stroke-width: 1.5px;}\n",
      ".link {stroke: #999; stroke-opacity: .6;}\n",
      "</style>"
     ],
     "language": "python",
     "metadata": {},
     "outputs": []
    },
    {
     "cell_type": "markdown",
     "metadata": {},
     "source": [
      "Now let's run the JavaScript code for a d3 example using the `%%javascript` magic. Note, this is pulling the data (`miserables.json`) from a local file sitting in the `data` directory next to this notebook and using the above defined `div` and CSS."
     ]
    },
    {
     "cell_type": "code",
     "collapsed": false,
     "input": [
      "%%javascript\n",
      "\n",
      "require.config({paths: {d3: \"http://d3js.org/d3.v3.min\"}});\n",
      "\n",
      "require([\"d3\"], function(d3) {\n",
      "  var width = 600,\n",
      "      height = 400;\n",
      "\n",
      "  var color = d3.scale.category20();\n",
      "\n",
      "  var force = d3.layout.force()\n",
      "    .charge(-120)\n",
      "    .linkDistance(30)\n",
      "    .size([width, height]);\n",
      "\n",
      "  var svg = d3.select(\"#d3-example\").append(\"svg\")\n",
      "    .attr(\"width\", width)\n",
      "    .attr(\"height\", height);\n",
      "\n",
      "  d3.json(\"data/miserables.json\", function(error, graph) {\n",
      "    force.nodes(graph.nodes)\n",
      "         .links(graph.links)\n",
      "         .start();\n",
      "\n",
      "    var link = svg.selectAll(\".link\")\n",
      "        .data(graph.links)\n",
      "        .enter().append(\"line\")\n",
      "        .attr(\"class\", \"link\")\n",
      "        .style(\"stroke-width\", function(d) { return Math.sqrt(d.value); });\n",
      "\n",
      "    var node = svg.selectAll(\".node\")\n",
      "        .data(graph.nodes)\n",
      "        .enter().append(\"circle\")\n",
      "        .attr(\"class\", \"node\")\n",
      "        .attr(\"r\", 5)\n",
      "        .style(\"fill\", function(d) { return color(d.group); })\n",
      "        .call(force.drag);\n",
      "\n",
      "    node.append(\"title\")\n",
      "        .text(function(d) { return d.name; });\n",
      "\n",
      "    force.on(\"tick\", function() {\n",
      "      link.attr(\"x1\", function(d) { return d.source.x; })\n",
      "          .attr(\"y1\", function(d) { return d.source.y; })\n",
      "          .attr(\"x2\", function(d) { return d.target.x; })\n",
      "          .attr(\"y2\", function(d) { return d.target.y; });\n",
      "\n",
      "      node.attr(\"cx\", function(d) { return d.x; })\n",
      "          .attr(\"cy\", function(d) { return d.y; });\n",
      "    });\n",
      "  });\n",
      "});"
     ],
     "language": "python",
     "metadata": {},
     "outputs": []
    },
    {
     "cell_type": "heading",
     "level": 2,
     "metadata": {},
     "source": [
      "Vincent/Vega"
     ]
    },
    {
     "cell_type": "markdown",
     "metadata": {},
     "source": [
      "[Vega](http://trifacta.github.io/vega/) is a declarative, JSON-based grammar for specifying SVG/Canvas visualizations.\n",
      "\n",
      "[Vincent](https://github.com/wrobstory/vincent) is a Python plotting library that produces Vega JSON that is automatically rendered as output in the Notebook."
     ]
    },
    {
     "cell_type": "heading",
     "level": 2,
     "metadata": {},
     "source": [
      "mpld3"
     ]
    },
    {
     "cell_type": "markdown",
     "metadata": {},
     "source": [
      "[Matplotlib](http://matplotlib.org) is a mature visualization library for Python. When using matplotlib in the notebook it usually produces PNG, JPEG or PDF output.\n",
      "\n",
      "[mpld3](http://mpld3.github.io/) is a recently created Python library that converts matplotlib `Figure` objects to d3 based visualizations that the notebook can display."
     ]
    },
    {
     "cell_type": "code",
     "collapsed": false,
     "input": [
      "%matplotlib inline\n",
      "import numpy as np\n",
      "from matplotlib import pyplot as plt\n",
      "from mpld3 import enable_notebook, plugins\n",
      "enable_notebook()"
     ],
     "language": "python",
     "metadata": {},
     "outputs": []
    },
    {
     "cell_type": "code",
     "collapsed": false,
     "input": [
      "from sklearn.datasets import load_iris\n",
      "\n",
      "data = load_iris()\n",
      "X = data.data\n",
      "y = data.target\n",
      "\n",
      "# dither the data for clearer plotting\n",
      "X += 0.1 * np.random.random(X.shape)\n",
      "\n",
      "fig, ax = plt.subplots(4, 4, sharex=\"col\", sharey=\"row\", figsize=(8, 8))\n",
      "fig.subplots_adjust(left=0.05, right=0.95, bottom=0.05, top=0.95,\n",
      "                    hspace=0.1, wspace=0.1)\n",
      "\n",
      "for i in range(4):\n",
      "    for j in range(4):\n",
      "        ax[3 - i, j].scatter(X[:, j], X[:, i],\n",
      "                             c=y, s=40, alpha=0.3)\n",
      "\n",
      "# remove tick labels\n",
      "for axi in ax.flat:\n",
      "    for axis in [axi.xaxis, axi.yaxis]:\n",
      "        axis.set_major_formatter(plt.NullFormatter())\n",
      "\n",
      "# add a reset() button\n",
      "plugins.connect(fig, plugins.ResetButton())\n",
      "plt.show()"
     ],
     "language": "python",
     "metadata": {},
     "outputs": []
    },
    {
     "cell_type": "heading",
     "level": 2,
     "metadata": {},
     "source": [
      "Plotly"
     ]
    },
    {
     "cell_type": "markdown",
     "metadata": {},
     "source": [
      "[Plotly](https://plot.ly/) is a web-based data analysis and plotting tool that has IPython integration and uses d3 for its visualizations."
     ]
    },
    {
     "cell_type": "code",
     "collapsed": false,
     "input": [
      "import plotly\n",
      "py = plotly.plotly('IPython.Demo', '1fw3zw2o13')\n",
      "nr = np.random"
     ],
     "language": "python",
     "metadata": {},
     "outputs": []
    },
    {
     "cell_type": "code",
     "collapsed": false,
     "input": [
      "distributions = [nr.uniform, nr.normal , lambda size: nr.normal(0, 0.2, size=size),\n",
      "                 lambda size: nr.beta(a=0.5, b=0.5, size=size),\n",
      "                 lambda size: nr.beta(a=0.5, b=2, size=size)]\n",
      "\n",
      "names = ['Uniform(0,1)', 'Normal(0,1)', 'Normal(0, 0.2)', 'beta(a=0.5, b=0.5)', 'beta(a=0.5, b=2)']\n",
      "\n",
      "boxes = [{'y': dist(size=50), 'type': 'box', 'boxpoints': 'all', 'jitter': 0.5, 'pointpos': -1.8,\n",
      "        'name': name} for dist, name in zip(distributions, names)]\n",
      "\n",
      "layout = {'title': 'A few distributions',\n",
      "          'showlegend': False,\n",
      "          'xaxis': {'ticks': '', 'showgrid': False, 'showline': False},\n",
      "          'yaxis': {'zeroline': False, 'ticks': '', 'showline': False},\n",
      "          }\n",
      "\n",
      "py.iplot(boxes, layout = layout, filename='Distributions', fileopt='overwrite', width=1000, height=650)"
     ],
     "language": "python",
     "metadata": {},
     "outputs": []
    },
    {
     "cell_type": "code",
     "collapsed": false,
     "input": [],
     "language": "python",
     "metadata": {},
     "outputs": []
    }
   ],
   "metadata": {}
  }
 ]
}