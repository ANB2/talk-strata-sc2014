{
 "metadata": {
  "name": "",
  "signature": "sha256:3391a941d816ee47b699ee8e839a9f73f13612b3b29493ac80d0f391bc2b0600"
 },
 "nbformat": 3,
 "nbformat_minor": 0,
 "worksheets": [
  {
   "cells": [
    {
     "cell_type": "heading",
     "level": 2,
     "metadata": {},
     "source": [
      "Statement of the problem"
     ]
    },
    {
     "cell_type": "markdown",
     "metadata": {},
     "source": [
      "* People working with data are sitting in front of laptops with web browsers open.\n",
      "* Browsers have become a premier platform for interactive user interfaces and visualization (d3, bootstrap, three.js, etc.).\n",
      "* The data these people need to interact with and visualize is not in the browser. At best it is sitting on their laptop. At worse, it is sitting on a server in the cloud.\n",
      "\n",
      "\n",
      "\n"
     ]
    },
    {
     "cell_type": "heading",
     "level": 2,
     "metadata": {},
     "source": [
      "The grand vision of IPython"
     ]
    },
    {
     "cell_type": "markdown",
     "metadata": {},
     "source": [
      "Project summary\n",
      "\n",
      "Started in 2001 by Fernando Perez\n",
      "Open source, BSD\n",
      "Currently funded by the Sloan Foundation, Microsoft, NSF, Simons Foundation\n",
      "6 people working full time at UC Berkeley and Cal Poly\n",
      "\n",
      "What is the IPython Notebook?\n",
      "\n",
      "An interactive computing environment that makes exploratory computing reproducible across the full lifecycle of data science.\n",
      "\n",
      "Multiple languages\n",
      "\n",
      "Different contexts\n",
      "\n",
      "Interactive exploration\n",
      "Publishing\n",
      "Presentation\n",
      "Parallel Computing\n",
      "Teaching\n",
      "\n"
     ]
    },
    {
     "cell_type": "heading",
     "level": 2,
     "metadata": {},
     "source": [
      "Visualize, Interact, Compute"
     ]
    },
    {
     "cell_type": "markdown",
     "metadata": {},
     "source": [
      "Visualize\n",
      "\n",
      "Basic rich output\n",
      "D3 example\n",
      "mpld3, plotly, vincent/vega\n",
      "\n",
      "Interact\n",
      "\n",
      "ZeroMQ/WebSockets\n",
      "\n",
      "Comm\n",
      "\n",
      "Widgets\n",
      "\n",
      "Builtin widgets\n",
      "Desription of the architecture\n",
      "d3 graph examples\n",
      "leap motion\n",
      "\n",
      "Interact\n",
      "\n",
      "Stock example notebook\n",
      "Lorentz\n",
      "\n",
      "\n"
     ]
    },
    {
     "cell_type": "heading",
     "level": 2,
     "metadata": {},
     "source": [
      "What do I want to show?"
     ]
    },
    {
     "cell_type": "markdown",
     "metadata": {},
     "source": [
      "# Introduction (10 minutes)\n",
      "\n",
      "* Frontmatter\n",
      "* The IPython project (3)\n",
      "  - History\n",
      "  - Funding\n",
      "  - Dev team\n",
      "* The IPython Notebook (10)\n",
      "  - Pitch statement\n",
      "  - Code execution environment\n",
      "  - Cross language\n",
      "  - Notebook documents\n",
      "  - nbviewer and Gallery\n",
      "\n",
      "# Interaction (10 minutes)\n",
      "\n",
      "* Vizualize, interact, compute\n",
      "  - What \"Close to data\" means\n",
      "  - Talk about the three phases\n",
      "  - Give an overview of the layers within IPython\n",
      "* Interact as an example of this XXX\n",
      "\n",
      "# d3 in the notebook (4 minutes)\n",
      "\n",
      "* Raw d3/%%javascript\n",
      "* mpld3\n",
      "* Vincent/Vega\n",
      "* Plotly\n",
      "\n",
      "# Widgets (10 minutes)\n",
      "\n",
      "* Using existing Widgets XXX\n",
      "* Building custom widgets\n",
      "\n",
      "# Examples (10 minutes)\n",
      "\n",
      "* variable inspector X\n",
      "* d3 graphs X\n",
      "* Leap attached to scatter plots XXX "
     ]
    },
    {
     "cell_type": "code",
     "collapsed": false,
     "input": [],
     "language": "python",
     "metadata": {},
     "outputs": []
    }
   ],
   "metadata": {}
  }
 ]
}