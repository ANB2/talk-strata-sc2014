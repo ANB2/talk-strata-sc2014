{
 "metadata": {
  "name": "",
  "signature": "sha256:717758631f599ffec856a186bc6f414ff7f896704b8d617e1954db7abd8da435"
 },
 "nbformat": 3,
 "nbformat_minor": 0,
 "worksheets": [
  {
   "cells": [
    {
     "cell_type": "heading",
     "level": 1,
     "metadata": {},
     "source": [
      "A few finishing thoughts"
     ]
    },
    {
     "cell_type": "code",
     "collapsed": false,
     "input": [
      "from IPython.display import Image"
     ],
     "language": "python",
     "metadata": {},
     "outputs": []
    },
    {
     "cell_type": "code",
     "collapsed": false,
     "input": [
      "Image('images/ipython_logo.png')"
     ],
     "language": "python",
     "metadata": {},
     "outputs": []
    },
    {
     "cell_type": "markdown",
     "metadata": {},
     "source": [
      "## The IPython Notebook and interactive JavaScript architecture enables you to get close to your data.\n",
      "\n",
      "## The entire architecture works for Python *and* other languages\n",
      "\n",
      "## Within the next 9-12 months, the IPython Project will be hiring at both UC Berkeley and Cal Poly. Choose between the city or the beach.\n",
      "\n",
      "## IPython Office Hours @ Strata with Ferando Perez and Brian Granger. Today 1:30pm, Table B."
     ]
    },
    {
     "cell_type": "code",
     "collapsed": false,
     "input": [],
     "language": "python",
     "metadata": {},
     "outputs": []
    }
   ],
   "metadata": {}
  }
 ]
}