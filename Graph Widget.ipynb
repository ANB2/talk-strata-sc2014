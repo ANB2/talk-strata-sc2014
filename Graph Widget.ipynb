{
 "metadata": {
  "name": "",
  "signature": "sha256:51f3ea6eb37e6ae52e9fff0c11072d5c2e1a3a04fcc71543c6abe5197e82dc0b"
 },
 "nbformat": 3,
 "nbformat_minor": 0,
 "worksheets": [
  {
   "cells": [
    {
     "cell_type": "heading",
     "level": 1,
     "metadata": {},
     "source": [
      "Dynamic visualization of graphs using d3.js"
     ]
    },
    {
     "cell_type": "code",
     "collapsed": false,
     "input": [
      "from IPython.html import widgets\n",
      "from IPython.display import display\n",
      "from eventful_graph import EventfulGraph\n",
      "from widget_forcedirectedgraph import ForceDirectedGraphWidget, publish_js\n",
      "publish_js()"
     ],
     "language": "python",
     "metadata": {},
     "outputs": []
    },
    {
     "cell_type": "markdown",
     "metadata": {},
     "source": [
      "[d3.js](http://d3js.org) has excellent force directed graph layout algorithms. But most network/graph data is not in the browser.\n",
      "\n",
      "[NetworkX](http://networkx.github.io/) is a Python library that provides graph data structures, algorithms and visualization.\n",
      "\n",
      "In this example, we demonstrate how it is possible to hook up NetworkX graph data strutures in Python to d3 based visualizations in a way that allows the **dynamic** visualization of graphs.\n",
      "\n",
      "**The goal of this demo is to show how Widgets allow state to be sent to the browser in real time.**\n",
      "\n",
      "Here is an outline of the moving parts:\n",
      "\n",
      "* `EventfulGraph` is a subclass of `networkx.Graph` that can trigger events when the graph data changes\n",
      "  - Add and remove node and edges\n",
      "  - Metadata/property/attributes changes (color, radius, label, etc.)\n",
      "* `ForceDirectedGraphWidget` is an IPython widget that watches an `EventfulGraph` for events and synchronizes the graph data to a JavaScript model in the browser\n",
      "* The JavaScript view for the `ForceDirectedGraphWidget` uses d3's force directed layout algorithms.\n",
      "* Python code can modify the graph object and the view will update in real time."
     ]
    },
    {
     "cell_type": "heading",
     "level": 1,
     "metadata": {},
     "source": [
      "A simple example"
     ]
    },
    {
     "cell_type": "markdown",
     "metadata": {},
     "source": [
      "Here we setup the Widgets and create an `EventfulGraph`:"
     ]
    },
    {
     "cell_type": "code",
     "collapsed": false,
     "input": [
      "floating_container = widgets.PopupWidget(default_view_name='ModalView')\n",
      "floating_container.description = \"Dynamic D3 rendering of a NetworkX graph\"\n",
      "floating_container.button_text = \"Render Window\"\n",
      "floating_container.set_css({\n",
      "    'width': '420px',\n",
      "    'height': '350px'}, selector='modal')\n",
      "\n",
      "G = EventfulGraph()\n",
      "d3 = ForceDirectedGraphWidget(G)\n",
      "\n",
      "floating_container.children = [d3]\n",
      "display(floating_container)"
     ],
     "language": "python",
     "metadata": {},
     "outputs": []
    },
    {
     "cell_type": "markdown",
     "metadata": {},
     "source": [
      "The following code animates some of the graphs's attributes:"
     ]
    },
    {
     "cell_type": "code",
     "collapsed": false,
     "input": [
      "import time\n",
      "\n",
      "G.add_node(1, fill=\"red\", stroke=\"black\", color='black', label='A')\n",
      "time.sleep(1.0)\n",
      "\n",
      "G.add_node(2, fill=\"gold\", stroke=\"black\", color='black', r=20, font_size='24pt', label='B')\n",
      "time.sleep(1.0)\n",
      "\n",
      "G.add_node(3, fill=\"green\", stroke=\"black\", color='white', label='C')\n",
      "time.sleep(1.0)\n",
      "\n",
      "G.add_edges_from([(1,2),(1,3), (2,3)], stroke=\"#aaa\", strokewidth=\"1px\", distance=200, strength=0.5)\n",
      "time.sleep(1.0)\n",
      "\n",
      "G.adj[1][2]['distance'] = 20\n",
      "time.sleep(1.0)\n",
      "\n",
      "G.adj[1][3]['distance'] = 20\n",
      "time.sleep(1.0)\n",
      "\n",
      "G.adj[2][3]['distance'] = 20\n",
      "time.sleep(1.0)\n",
      "\n",
      "G.node[1]['r'] = 16\n",
      "time.sleep(0.3)\n",
      "G.node[1]['r'] = 8\n",
      "G.node[2]['r'] = 16\n",
      "time.sleep(0.3)\n",
      "G.node[2]['r'] = 20\n",
      "G.node[3]['r'] = 16\n",
      "time.sleep(0.3)\n",
      "G.node[3]['r'] = 8\n",
      "\n",
      "G.node[1]['fill'] = 'purple'\n",
      "time.sleep(0.3)\n",
      "G.node[1]['fill'] = 'red'\n",
      "G.node[2]['fill'] = 'purple'\n",
      "time.sleep(0.3)\n",
      "G.node[2]['fill'] = 'gold'\n",
      "G.node[3]['fill'] = 'purple'\n",
      "time.sleep(0.3)\n",
      "G.node[3]['fill'] = 'green'\n",
      "time.sleep(1.0)\n",
      "\n",
      "G.node.clear()\n",
      "time.sleep(1.0)\n",
      "\n",
      "floating_container.close()\n"
     ],
     "language": "python",
     "metadata": {},
     "outputs": []
    },
    {
     "cell_type": "heading",
     "level": 2,
     "metadata": {},
     "source": [
      "Visualizing integer factoring"
     ]
    },
    {
     "cell_type": "markdown",
     "metadata": {},
     "source": [
      "In this example, we visualize the factoring of small integers. We use a simple algorithm:\n",
      "\n",
      "* For a given integer find all of its divisors in increasing order: $10 \\rightarrow 2, 5$\n",
      "* For all of those divisors recursively find *their* divisors\n",
      "* Continue until all of the divisors are prime\n",
      "* Nodes in the graph are the divisors\n",
      "* Edges are added between an integer and each of its divisors"
     ]
    },
    {
     "cell_type": "code",
     "collapsed": false,
     "input": [
      "BACKGROUND = '#FFFFFF'\n",
      "PARENT_COLOR = '#3E5970'\n",
      "FACTOR_COLOR = '#424357'\n",
      "EDGE_COLOR = '#000000'\n",
      "PRIME_COLOR = '#FF5555'\n",
      "\n",
      "existing_graphs = []\n",
      "\n",
      "def handle_graph(graph):\n",
      "    if len(existing_graphs) > 0:\n",
      "        for graph_popup in existing_graphs:\n",
      "            graph_popup.close()\n",
      "        del existing_graphs[:]\n",
      "        \n",
      "    floating_container = widgets.ContainerWidget()\n",
      "    floating_container.description = \"Factors\"\n",
      "    floating_container.button_text = \"Factors\"\n",
      "    floating_container.set_css({\n",
      "        'width': '620px',\n",
      "        'height': '450px'}, selector='modal')\n",
      "        \n",
      "    d3 = ForceDirectedGraphWidget(graph)\n",
      "    d3.charge = -400.\n",
      "    floating_container.children = [d3]\n",
      "    floating_container.set_css('background', BACKGROUND)\n",
      "    d3.width = 600\n",
      "    d3.height = 400\n",
      "    display(floating_container)\n",
      "    existing_graphs.append(floating_container)\n",
      "EventfulGraph.on_constructed(handle_graph)"
     ],
     "language": "python",
     "metadata": {},
     "outputs": []
    },
    {
     "cell_type": "code",
     "collapsed": false,
     "input": [
      "CHARGE = -200\n",
      "MIN_NODE_RADIUS = 15.0\n",
      "START_NODE_RADIUS = 65.0\n",
      "is_int = lambda x: int(x) == x\n",
      "factor = lambda x: [i + 1 for i in range(x-1) if  i != 0 and is_int(x / (float(i) + 1.0))]\n",
      "calc_node_size = lambda x, start_x: max(float(x)/start_x * START_NODE_RADIUS, MIN_NODE_RADIUS)\n",
      "calc_edge_length = lambda x, parent_x, start_x: calc_node_size(x, start_x) + calc_node_size(parent_x, start_x)\n",
      "    \n",
      "def add_node(graph, value, **kwargs):\n",
      "    graph.add_node(len(graph.node), charge=CHARGE, strokewidth=0, value=value, label=value, font_size='18pt', dy='8', **kwargs)\n",
      "    return len(graph.node) - 1\n",
      "    \n",
      "def add_child_node(graph, x, number, start_number, parent):\n",
      "    index = add_node(graph, x, fill=FACTOR_COLOR, r='%.2fpx' % calc_node_size(x, start_number))\n",
      "    graph.add_edge(index, parent, distance=calc_edge_length(x, number, start_number), stroke=EDGE_COLOR, strokewidth='3px')\n",
      "    return index\n",
      "\n",
      "def plot_primes(number, start_number=None, parent=None, graph=None, delay=0.0):\n",
      "    start_number = start_number or number\n",
      "    graph = graph or EventfulGraph(sleep=delay)\n",
      "    parent = parent or add_node(graph, number, fill=PARENT_COLOR, r='%.2fpx' % START_NODE_RADIUS)\n",
      "    \n",
      "    factors = factor(number)\n",
      "    if len(factors) == 0:\n",
      "        graph.node[parent]['fill'] = PRIME_COLOR\n",
      "    for x in factors:\n",
      "        index = add_child_node(graph, x, number, start_number, parent)\n",
      "        plot_primes(x, start_number, parent=index, graph=graph)"
     ],
     "language": "python",
     "metadata": {},
     "outputs": []
    },
    {
     "cell_type": "code",
     "collapsed": false,
     "input": [
      "box = widgets.ContainerWidget()\n",
      "header = widgets.HTMLWidget(value=\"<h1>Integer Factorizer</h1><br>\")\n",
      "number = widgets.IntSliderWidget(description=\"Number:\", value=100)\n",
      "speed = widgets.FloatSliderWidget(description=\"Delay:\", min=0.0, max=0.2, value=0.1, step=0.01)\n",
      "\n",
      "subbox = widgets.ContainerWidget()\n",
      "button = widgets.ButtonWidget(description=\"Calculate\")\n",
      "subbox.children = [button]\n",
      "\n",
      "box.children = [header, number, speed, subbox]\n",
      "display(box)\n",
      "\n",
      "box.add_class('align-center')\n",
      "box.add_class('center')\n",
      "box.add_class('well well-small')\n",
      "box.set_css('width', 'auto')\n",
      "\n",
      "subbox.remove_class('vbox')\n",
      "subbox.add_class('hbox')\n",
      "# subbox.add_class('end')\n",
      "\n",
      "def handle_caclulate(sender):\n",
      "    plot_primes(number.value, delay=speed.value)\n",
      "button.on_click(handle_caclulate)"
     ],
     "language": "python",
     "metadata": {},
     "outputs": []
    },
    {
     "cell_type": "code",
     "collapsed": false,
     "input": [],
     "language": "python",
     "metadata": {},
     "outputs": []
    }
   ],
   "metadata": {}
  }
 ]
}